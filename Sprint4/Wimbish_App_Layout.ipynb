{
 "cells": [
  {
   "cell_type": "code",
   "execution_count": 1,
   "metadata": {},
   "outputs": [],
   "source": [
    "# import libraries\n",
    "from dash import Dash,dcc, html, Input, Output\n",
    "import pandas as pd"
   ]
  },
  {
   "cell_type": "code",
   "execution_count": 2,
   "metadata": {},
   "outputs": [],
   "source": [
    "breaks = html.Br(),html.Br(),html.Br(),html.Br(),html.Br(),html.Br(),html.Br(),html.Br(),html.Br(),html.Br(),html.Br(),html.Br(),html.Br(),html.Br(),html.Br(),html.Br(),html.Br(),html.Br(),html.Br(),html.Br(),html.Br(),html.Br(),html.Br(),html.Br()"
   ]
  },
  {
   "cell_type": "code",
   "execution_count": 3,
   "metadata": {},
   "outputs": [
    {
     "name": "stdout",
     "output_type": "stream",
     "text": [
      "Dash app running on http://127.0.0.1:8050/\n"
     ]
    },
    {
     "data": {
      "application/javascript": "window.open('http://127.0.0.1:8050/')",
      "text/plain": [
       "<IPython.core.display.Javascript object>"
      ]
     },
     "metadata": {},
     "output_type": "display_data"
    }
   ],
   "source": [
    "stylesheet = ['https://codepen.io/chriddyp/pen/bWLwgP.css']\n",
    "app = Dash(__name__, external_stylesheets=stylesheet)\n",
    "\n",
    "data = pd.read_csv('../DATA/data.csv')\n",
    "\n",
    "\n",
    "left1 = [\n",
    "    html.H1(\"My Listening Habits\"),\n",
    "    html.H2(\"Insert Number\"),\n",
    "    html.P(\"Total Streaming Minutes\"),\n",
    "    html.H2(\"Insert Number\"),\n",
    "    html.P(\"Different Songs\"),\n",
    "    html.H2(\"Insert Number\"),\n",
    "    html.P(\"Different Artists\"),\n",
    "    html.P('Between mm/dd/yy and mm/dd/yy')\n",
    "]\n",
    "\n",
    "app.layout = html.Div( # entire page\n",
    "    [\n",
    "        html.Div( # Top of Page \n",
    "            [\n",
    "                html.H1(\"Title\"), # title \n",
    "                html.H3(\"Description\"), # description\n",
    "            ],style={\"border\":\"2px solid pink\", 'margin':'5px'}),\n",
    "\n",
    "        html.Div(# Bottom of Page \n",
    "            [ \n",
    "                html.Div( # left side of page \n",
    "                    [\n",
    "                        html.Div(breaks, # left 3 col of left \n",
    "                                className= \"four columns\", \n",
    "                                style={'margin':'5px', 'backgroundColor':\"#750202\"}), \n",
    "                        \n",
    "                        html.Div(# right 6 col of left \n",
    "                            [html.Div(\"WIDGETS\", style={'backgroundColor':'#eb343d', 'margin':'5px'}),\n",
    "                             html.Div(['PLOT 1', html.Br(), html.Br(), html.Br()], style={'backgroundColor':'#8c1d59','margin':'5px'}),\n",
    "                             html.Div(\"MORE WIDGETS\", style={'backgroundColor':'#d10a76', 'margin':'5px'}), \n",
    "                             html.Div(# two bottom plots\n",
    "                                 [\n",
    "                                     html.Div(\"PLOT 2\", className='six columns', style={'backgroundColor':'#f08dd2', 'margin':'5px'}), \n",
    "                                     html.Div(\"PLOT 3\", className='six columns', style={'backgroundColor':'#f08dd2', 'margin':'5px'})\n",
    "                                 ])\n",
    "                            \n",
    "                            ], className='eight columns', style ={'margin':'5px'})\n",
    "                    ], className='nine columns', style={\"border\":\"2px solid pink\"}),\n",
    "                \n",
    "                html.Div(breaks, \n",
    "                        style={\"border\":\"2px solid pink\"}, className='three columns')\n",
    "            ])\n",
    "    ], style={\"border\":\"2px solid pink\"}, className = 'row')\n",
    "\n",
    "if __name__ == '__main__':\n",
    "    app.run_server(jupyter_mode='tab', debug=True)"
   ]
  },
  {
   "cell_type": "code",
   "execution_count": null,
   "metadata": {},
   "outputs": [],
   "source": []
  }
 ],
 "metadata": {
  "kernelspec": {
   "display_name": "ds4003",
   "language": "python",
   "name": "python3"
  },
  "language_info": {
   "codemirror_mode": {
    "name": "ipython",
    "version": 3
   },
   "file_extension": ".py",
   "mimetype": "text/x-python",
   "name": "python",
   "nbconvert_exporter": "python",
   "pygments_lexer": "ipython3",
   "version": "3.8.18"
  }
 },
 "nbformat": 4,
 "nbformat_minor": 2
}
