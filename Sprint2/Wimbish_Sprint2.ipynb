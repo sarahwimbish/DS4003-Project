{
 "cells": [
  {
   "cell_type": "markdown",
   "metadata": {},
   "source": [
    "# Sprint 2: Spotify Data Exploration \n",
    "Sarah Wimbish \\\n",
    "DS 4003 \n",
    "\n",
    "For this project, I plan to use two data sets that both explore Spotify data. The first data set is my own personal Spotify streaming history which includes all of my music streaming over the past year listing song title, artist, milliseconds played, and the time that I stopped playing the each song. The second data set is pulled from [kaggle](https://www.kaggle.com/datasets/yukawithdata/spotify-top-tracks-2023?resource=download), but is sourced from the top 50 most streamed song list put out by Spotify at the end of 2023. This data set contains Spotify metrics on each of the top 50 songs that allows a closer look at the musicality of these songs compared to the data available on my personal data. I want to use both of these data sets so I can look at the data from a more personal perspective, as well as a more global perspective. \n",
    "\n",
    "### DATA IS IN THE DATA FOLDER \n",
    "labeled data.csv (personal) and data2.csv (global)"
   ]
  },
  {
   "cell_type": "markdown",
   "metadata": {},
   "source": [
    "# Cleaning the Data\n",
    "Both of these  data sets are almost tidy upon uploading them, the main thing that needs to be cleaned in making sure each variable is the correct data type. My personal data set also needs to be combined from the four data sets it is currently in to a single data set. There are a few things that I want to add to my personal dataset that will make it more useful when creating visualizations. "
   ]
  },
  {
   "cell_type": "code",
   "execution_count": 2,
   "metadata": {},
   "outputs": [],
   "source": [
    "# import dependencies \n",
    "import pandas as pd\n",
    "import numpy as np \n",
    "import seaborn as sns \n",
    "import plotly.express as px \n",
    "from datetime import datetime\n",
    "import textwrap"
   ]
  },
  {
   "cell_type": "markdown",
   "metadata": {},
   "source": [
    "### Importing and Cleaning Personal Data"
   ]
  },
  {
   "cell_type": "code",
   "execution_count": 3,
   "metadata": {},
   "outputs": [
    {
     "name": "stdout",
     "output_type": "stream",
     "text": [
      "<class 'pandas.core.frame.DataFrame'>\n",
      "RangeIndex: 30811 entries, 0 to 30810\n",
      "Data columns (total 5 columns):\n",
      " #   Column      Non-Null Count  Dtype         \n",
      "---  ------      --------------  -----         \n",
      " 0   index       30811 non-null  int64         \n",
      " 1   endTime     30811 non-null  datetime64[ns]\n",
      " 2   artistName  30811 non-null  object        \n",
      " 3   trackName   30811 non-null  object        \n",
      " 4   msPlayed    30811 non-null  int64         \n",
      "dtypes: datetime64[ns](1), int64(2), object(2)\n",
      "memory usage: 1.2+ MB\n"
     ]
    }
   ],
   "source": [
    "# import personal streaming data \n",
    "streaminghistory1 = pd.read_json(\"../data/StreamingHistory_music_0.json\", orient='columns')\n",
    "streaminghistory2 = pd.read_json(\"../data/StreamingHistory_music_1.json\", orient='columns')\n",
    "streaminghistory3 = pd.read_json(\"../data/StreamingHistory_music_2.json\", orient='columns')\n",
    "streaminghistory4 = pd.read_json(\"../data/StreamingHistory_music_3.json\", orient='columns')\n",
    "# combine into one data frame \n",
    "personal = pd.concat([streaminghistory1, streaminghistory2, streaminghistory3, streaminghistory4]).reset_index()\n",
    "\n",
    "\n",
    "# endTime needs to be made into a datetime object \n",
    "# endTIme is also in UTC so I want to change it to EST\n",
    "personal['endTime'] = pd.to_datetime(personal['endTime'])\n",
    "personal['endTime'] = personal['endTime'] - pd.Timedelta(hours=5)\n",
    "\n",
    "# all the types are looking good now \n",
    "personal.info()"
   ]
  },
  {
   "cell_type": "markdown",
   "metadata": {},
   "source": [
    "### Creating Potentially Useful Variables (Personal)\n",
    "After brainstorming some types of visuals I might want to make, there are some variables that I want to add to the dataset to make it easier int eh future to make certain graphs. "
   ]
  },
  {
   "cell_type": "code",
   "execution_count": 4,
   "metadata": {},
   "outputs": [
    {
     "data": {
      "text/html": [
       "<div>\n",
       "<style scoped>\n",
       "    .dataframe tbody tr th:only-of-type {\n",
       "        vertical-align: middle;\n",
       "    }\n",
       "\n",
       "    .dataframe tbody tr th {\n",
       "        vertical-align: top;\n",
       "    }\n",
       "\n",
       "    .dataframe thead th {\n",
       "        text-align: right;\n",
       "    }\n",
       "</style>\n",
       "<table border=\"1\" class=\"dataframe\">\n",
       "  <thead>\n",
       "    <tr style=\"text-align: right;\">\n",
       "      <th></th>\n",
       "      <th>index</th>\n",
       "      <th>endTime</th>\n",
       "      <th>artistName</th>\n",
       "      <th>trackName</th>\n",
       "      <th>msPlayed</th>\n",
       "      <th>seconds</th>\n",
       "      <th>minutes</th>\n",
       "      <th>played</th>\n",
       "      <th>date</th>\n",
       "      <th>dayofweek</th>\n",
       "      <th>hour</th>\n",
       "      <th>timeofday</th>\n",
       "    </tr>\n",
       "  </thead>\n",
       "  <tbody>\n",
       "    <tr>\n",
       "      <th>0</th>\n",
       "      <td>0</td>\n",
       "      <td>2023-03-01 19:04:00</td>\n",
       "      <td>M. Ward</td>\n",
       "      <td>Rave On</td>\n",
       "      <td>8280</td>\n",
       "      <td>8.280</td>\n",
       "      <td>0.138000</td>\n",
       "      <td>False</td>\n",
       "      <td>2023-03-01</td>\n",
       "      <td>Wednesday</td>\n",
       "      <td>19</td>\n",
       "      <td>Night</td>\n",
       "    </tr>\n",
       "    <tr>\n",
       "      <th>1</th>\n",
       "      <td>1</td>\n",
       "      <td>2023-03-01 19:04:00</td>\n",
       "      <td>James Blunt</td>\n",
       "      <td>Bonfire Heart</td>\n",
       "      <td>970</td>\n",
       "      <td>0.970</td>\n",
       "      <td>0.016167</td>\n",
       "      <td>False</td>\n",
       "      <td>2023-03-01</td>\n",
       "      <td>Wednesday</td>\n",
       "      <td>19</td>\n",
       "      <td>Night</td>\n",
       "    </tr>\n",
       "    <tr>\n",
       "      <th>2</th>\n",
       "      <td>2</td>\n",
       "      <td>2023-03-01 19:04:00</td>\n",
       "      <td>Frankie Cosmos</td>\n",
       "      <td>Jesse</td>\n",
       "      <td>4653</td>\n",
       "      <td>4.653</td>\n",
       "      <td>0.077550</td>\n",
       "      <td>False</td>\n",
       "      <td>2023-03-01</td>\n",
       "      <td>Wednesday</td>\n",
       "      <td>19</td>\n",
       "      <td>Night</td>\n",
       "    </tr>\n",
       "    <tr>\n",
       "      <th>3</th>\n",
       "      <td>3</td>\n",
       "      <td>2023-03-01 19:04:00</td>\n",
       "      <td>Cage The Elephant</td>\n",
       "      <td>How Are You True</td>\n",
       "      <td>280946</td>\n",
       "      <td>280.946</td>\n",
       "      <td>4.682433</td>\n",
       "      <td>True</td>\n",
       "      <td>2023-03-01</td>\n",
       "      <td>Wednesday</td>\n",
       "      <td>19</td>\n",
       "      <td>Night</td>\n",
       "    </tr>\n",
       "    <tr>\n",
       "      <th>4</th>\n",
       "      <td>4</td>\n",
       "      <td>2023-03-01 19:04:00</td>\n",
       "      <td>Saint Motel</td>\n",
       "      <td>Sweet Talk</td>\n",
       "      <td>1110</td>\n",
       "      <td>1.110</td>\n",
       "      <td>0.018500</td>\n",
       "      <td>False</td>\n",
       "      <td>2023-03-01</td>\n",
       "      <td>Wednesday</td>\n",
       "      <td>19</td>\n",
       "      <td>Night</td>\n",
       "    </tr>\n",
       "  </tbody>\n",
       "</table>\n",
       "</div>"
      ],
      "text/plain": [
       "   index             endTime         artistName         trackName  msPlayed  \\\n",
       "0      0 2023-03-01 19:04:00            M. Ward           Rave On      8280   \n",
       "1      1 2023-03-01 19:04:00        James Blunt     Bonfire Heart       970   \n",
       "2      2 2023-03-01 19:04:00     Frankie Cosmos             Jesse      4653   \n",
       "3      3 2023-03-01 19:04:00  Cage The Elephant  How Are You True    280946   \n",
       "4      4 2023-03-01 19:04:00        Saint Motel        Sweet Talk      1110   \n",
       "\n",
       "   seconds   minutes  played       date  dayofweek  hour timeofday  \n",
       "0    8.280  0.138000   False 2023-03-01  Wednesday    19     Night  \n",
       "1    0.970  0.016167   False 2023-03-01  Wednesday    19     Night  \n",
       "2    4.653  0.077550   False 2023-03-01  Wednesday    19     Night  \n",
       "3  280.946  4.682433    True 2023-03-01  Wednesday    19     Night  \n",
       "4    1.110  0.018500   False 2023-03-01  Wednesday    19     Night  "
      ]
     },
     "execution_count": 4,
     "metadata": {},
     "output_type": "execute_result"
    }
   ],
   "source": [
    "# creating a seconds variable  \n",
    "personal['seconds'] = personal['msPlayed'] / 1000\n",
    "\n",
    "# creating a minutes variable \n",
    "personal['minutes'] = personal['seconds'] / 60\n",
    "\n",
    "# create a variable that tells whether or not I actually listened to the song \n",
    "# this is determined by whether I listened to 30 or more seconds of the song \n",
    "# *obviously wont be perfect but it should work well enough for the purpose of this project\n",
    "personal['played'] = np.where(personal['seconds'] > 30, True, False)\n",
    "\n",
    "# extract just the date \n",
    "personal['date'] = personal['endTime'].dt.normalize()\n",
    "\n",
    "# label the day of the week each some was played \n",
    "personal['dayofweek'] = personal['date'].dt.day_name()\n",
    "\n",
    "# extra the hour that the song was listened to \n",
    "personal['hour'] = personal['endTime'].dt.hour\n",
    "\n",
    "# when during the day was the song listened to \n",
    "# morning is 5am-12pm, afternoon is 12pm-6pm, and night is 6pm-5am \n",
    "personal['timeofday'] = np.where((personal.hour > 5) & (personal.hour < 12), 'Morning', \n",
    "                                 np.where((personal.hour > 12) & (personal.hour < 18), 'Afternoon', 'Night'))\n",
    "\n",
    "# everything is looking good \n",
    "personal.head()"
   ]
  },
  {
   "cell_type": "markdown",
   "metadata": {},
   "source": [
    "### Importing and Cleaning Global Data "
   ]
  },
  {
   "cell_type": "code",
   "execution_count": 10,
   "metadata": {},
   "outputs": [
    {
     "name": "stdout",
     "output_type": "stream",
     "text": [
      "<class 'pandas.core.frame.DataFrame'>\n",
      "RangeIndex: 50 entries, 0 to 49\n",
      "Data columns (total 19 columns):\n",
      " #   Column              Non-Null Count  Dtype         \n",
      "---  ------              --------------  -----         \n",
      " 0   artist_name         50 non-null     object        \n",
      " 1   track_name          50 non-null     object        \n",
      " 2   is_explicit         50 non-null     bool          \n",
      " 3   album_release_date  50 non-null     datetime64[ns]\n",
      " 4   genres              50 non-null     object        \n",
      " 5   danceability        50 non-null     float64       \n",
      " 6   valence             50 non-null     float64       \n",
      " 7   energy              50 non-null     float64       \n",
      " 8   loudness            50 non-null     float64       \n",
      " 9   acousticness        50 non-null     float64       \n",
      " 10  instrumentalness    50 non-null     float64       \n",
      " 11  liveness            50 non-null     float64       \n",
      " 12  speechiness         50 non-null     float64       \n",
      " 13  key                 50 non-null     int64         \n",
      " 14  tempo               50 non-null     float64       \n",
      " 15  mode                50 non-null     int64         \n",
      " 16  duration_ms         50 non-null     int64         \n",
      " 17  time_signature      50 non-null     int64         \n",
      " 18  popularity          50 non-null     int64         \n",
      "dtypes: bool(1), datetime64[ns](1), float64(9), int64(5), object(3)\n",
      "memory usage: 7.2+ KB\n"
     ]
    }
   ],
   "source": [
    "# import global data \n",
    "world = pd.read_csv('../data/top_50_2023.csv')\n",
    "\n",
    "world['album_release_date'] = pd.to_datetime(world['album_release_date'])\n",
    "\n",
    "world.info()"
   ]
  },
  {
   "cell_type": "markdown",
   "metadata": {},
   "source": [
    "### Creating Potentially Useful Variables (Global) \n",
    "Although there are not as many variables I want to add to this dataset, I would like to convert duration_ms to minutes. "
   ]
  },
  {
   "cell_type": "code",
   "execution_count": 11,
   "metadata": {},
   "outputs": [
    {
     "data": {
      "text/html": [
       "<div>\n",
       "<style scoped>\n",
       "    .dataframe tbody tr th:only-of-type {\n",
       "        vertical-align: middle;\n",
       "    }\n",
       "\n",
       "    .dataframe tbody tr th {\n",
       "        vertical-align: top;\n",
       "    }\n",
       "\n",
       "    .dataframe thead th {\n",
       "        text-align: right;\n",
       "    }\n",
       "</style>\n",
       "<table border=\"1\" class=\"dataframe\">\n",
       "  <thead>\n",
       "    <tr style=\"text-align: right;\">\n",
       "      <th></th>\n",
       "      <th>artist_name</th>\n",
       "      <th>track_name</th>\n",
       "      <th>is_explicit</th>\n",
       "      <th>album_release_date</th>\n",
       "      <th>genres</th>\n",
       "      <th>danceability</th>\n",
       "      <th>valence</th>\n",
       "      <th>energy</th>\n",
       "      <th>loudness</th>\n",
       "      <th>acousticness</th>\n",
       "      <th>instrumentalness</th>\n",
       "      <th>liveness</th>\n",
       "      <th>speechiness</th>\n",
       "      <th>key</th>\n",
       "      <th>tempo</th>\n",
       "      <th>mode</th>\n",
       "      <th>duration_ms</th>\n",
       "      <th>time_signature</th>\n",
       "      <th>popularity</th>\n",
       "      <th>minutes</th>\n",
       "    </tr>\n",
       "  </thead>\n",
       "  <tbody>\n",
       "    <tr>\n",
       "      <th>0</th>\n",
       "      <td>Miley Cyrus</td>\n",
       "      <td>Flowers</td>\n",
       "      <td>False</td>\n",
       "      <td>2023-08-18</td>\n",
       "      <td>['pop']</td>\n",
       "      <td>0.706</td>\n",
       "      <td>0.632</td>\n",
       "      <td>0.691</td>\n",
       "      <td>-4.775</td>\n",
       "      <td>0.0584</td>\n",
       "      <td>0.000070</td>\n",
       "      <td>0.0232</td>\n",
       "      <td>0.0633</td>\n",
       "      <td>0</td>\n",
       "      <td>118.048</td>\n",
       "      <td>1</td>\n",
       "      <td>200600</td>\n",
       "      <td>4</td>\n",
       "      <td>94</td>\n",
       "      <td>3.343333</td>\n",
       "    </tr>\n",
       "    <tr>\n",
       "      <th>1</th>\n",
       "      <td>SZA</td>\n",
       "      <td>Kill Bill</td>\n",
       "      <td>False</td>\n",
       "      <td>2022-12-08</td>\n",
       "      <td>['pop', 'r&amp;b', 'rap']</td>\n",
       "      <td>0.644</td>\n",
       "      <td>0.418</td>\n",
       "      <td>0.735</td>\n",
       "      <td>-5.747</td>\n",
       "      <td>0.0521</td>\n",
       "      <td>0.144000</td>\n",
       "      <td>0.1610</td>\n",
       "      <td>0.0391</td>\n",
       "      <td>8</td>\n",
       "      <td>88.980</td>\n",
       "      <td>1</td>\n",
       "      <td>153947</td>\n",
       "      <td>4</td>\n",
       "      <td>86</td>\n",
       "      <td>2.565783</td>\n",
       "    </tr>\n",
       "    <tr>\n",
       "      <th>2</th>\n",
       "      <td>Harry Styles</td>\n",
       "      <td>As It Was</td>\n",
       "      <td>False</td>\n",
       "      <td>2022-05-20</td>\n",
       "      <td>['pop']</td>\n",
       "      <td>0.520</td>\n",
       "      <td>0.662</td>\n",
       "      <td>0.731</td>\n",
       "      <td>-5.338</td>\n",
       "      <td>0.3420</td>\n",
       "      <td>0.001010</td>\n",
       "      <td>0.3110</td>\n",
       "      <td>0.0557</td>\n",
       "      <td>6</td>\n",
       "      <td>173.930</td>\n",
       "      <td>0</td>\n",
       "      <td>167303</td>\n",
       "      <td>4</td>\n",
       "      <td>95</td>\n",
       "      <td>2.788383</td>\n",
       "    </tr>\n",
       "    <tr>\n",
       "      <th>3</th>\n",
       "      <td>Jung Kook</td>\n",
       "      <td>Seven (feat. Latto) (Explicit Ver.)</td>\n",
       "      <td>True</td>\n",
       "      <td>2023-11-03</td>\n",
       "      <td>['k-pop']</td>\n",
       "      <td>0.790</td>\n",
       "      <td>0.872</td>\n",
       "      <td>0.831</td>\n",
       "      <td>-4.185</td>\n",
       "      <td>0.3120</td>\n",
       "      <td>0.000000</td>\n",
       "      <td>0.0797</td>\n",
       "      <td>0.0440</td>\n",
       "      <td>11</td>\n",
       "      <td>124.987</td>\n",
       "      <td>1</td>\n",
       "      <td>183551</td>\n",
       "      <td>4</td>\n",
       "      <td>90</td>\n",
       "      <td>3.059183</td>\n",
       "    </tr>\n",
       "    <tr>\n",
       "      <th>4</th>\n",
       "      <td>Eslabon Armado</td>\n",
       "      <td>Ella Baila Sola</td>\n",
       "      <td>False</td>\n",
       "      <td>2023-04-28</td>\n",
       "      <td>['corrido', 'corridos tumbados', 'sad sierreno...</td>\n",
       "      <td>0.668</td>\n",
       "      <td>0.834</td>\n",
       "      <td>0.758</td>\n",
       "      <td>-5.176</td>\n",
       "      <td>0.4830</td>\n",
       "      <td>0.000019</td>\n",
       "      <td>0.0837</td>\n",
       "      <td>0.0332</td>\n",
       "      <td>5</td>\n",
       "      <td>147.989</td>\n",
       "      <td>0</td>\n",
       "      <td>165671</td>\n",
       "      <td>3</td>\n",
       "      <td>86</td>\n",
       "      <td>2.761183</td>\n",
       "    </tr>\n",
       "  </tbody>\n",
       "</table>\n",
       "</div>"
      ],
      "text/plain": [
       "      artist_name                           track_name  is_explicit  \\\n",
       "0     Miley Cyrus                              Flowers        False   \n",
       "1             SZA                            Kill Bill        False   \n",
       "2    Harry Styles                            As It Was        False   \n",
       "3       Jung Kook  Seven (feat. Latto) (Explicit Ver.)         True   \n",
       "4  Eslabon Armado                      Ella Baila Sola        False   \n",
       "\n",
       "  album_release_date                                             genres  \\\n",
       "0         2023-08-18                                            ['pop']   \n",
       "1         2022-12-08                              ['pop', 'r&b', 'rap']   \n",
       "2         2022-05-20                                            ['pop']   \n",
       "3         2023-11-03                                          ['k-pop']   \n",
       "4         2023-04-28  ['corrido', 'corridos tumbados', 'sad sierreno...   \n",
       "\n",
       "   danceability  valence  energy  loudness  acousticness  instrumentalness  \\\n",
       "0         0.706    0.632   0.691    -4.775        0.0584          0.000070   \n",
       "1         0.644    0.418   0.735    -5.747        0.0521          0.144000   \n",
       "2         0.520    0.662   0.731    -5.338        0.3420          0.001010   \n",
       "3         0.790    0.872   0.831    -4.185        0.3120          0.000000   \n",
       "4         0.668    0.834   0.758    -5.176        0.4830          0.000019   \n",
       "\n",
       "   liveness  speechiness  key    tempo  mode  duration_ms  time_signature  \\\n",
       "0    0.0232       0.0633    0  118.048     1       200600               4   \n",
       "1    0.1610       0.0391    8   88.980     1       153947               4   \n",
       "2    0.3110       0.0557    6  173.930     0       167303               4   \n",
       "3    0.0797       0.0440   11  124.987     1       183551               4   \n",
       "4    0.0837       0.0332    5  147.989     0       165671               3   \n",
       "\n",
       "   popularity   minutes  \n",
       "0          94  3.343333  \n",
       "1          86  2.565783  \n",
       "2          95  2.788383  \n",
       "3          90  3.059183  \n",
       "4          86  2.761183  "
      ]
     },
     "execution_count": 11,
     "metadata": {},
     "output_type": "execute_result"
    }
   ],
   "source": [
    "# add how many minutes the song is \n",
    "world['minutes'] = world['duration_ms'] / 1000 / 60\n",
    "world.head()"
   ]
  },
  {
   "cell_type": "markdown",
   "metadata": {},
   "source": [
    "### Export Data Files"
   ]
  },
  {
   "cell_type": "code",
   "execution_count": 35,
   "metadata": {},
   "outputs": [],
   "source": [
    "personal.to_csv('../data/data.csv')\n",
    "world.to_csv('../data/data2.csv')"
   ]
  },
  {
   "cell_type": "markdown",
   "metadata": {},
   "source": [
    "# Exploratory Data Analysis \n"
   ]
  },
  {
   "cell_type": "markdown",
   "metadata": {},
   "source": [
    "### Observation Numbers"
   ]
  },
  {
   "cell_type": "code",
   "execution_count": 12,
   "metadata": {},
   "outputs": [
    {
     "data": {
      "text/plain": [
       "50"
      ]
     },
     "execution_count": 12,
     "metadata": {},
     "output_type": "execute_result"
    }
   ],
   "source": [
    "# how many observations are there? \n",
    "# number of personal observations \n",
    "len(personal) # 30,811\n",
    "\n",
    "# number of personal observations that were actually listened to \n",
    "len(personal[personal.played == True]) # 18,235 \n",
    "\n",
    "# number of unique songs listened to (this is what would be comparable to the global data set)\n",
    "len(personal.trackName.unique()) # 3,205\n",
    "\n",
    "# number of global observations \n",
    "len(world) # 50 "
   ]
  },
  {
   "cell_type": "markdown",
   "metadata": {},
   "source": [
    "In my personal data set there are 30,811 observations, each one representing a specific instance of my listening to a song. My personal data set can be broken down farther to contain only 18,235 observations if sorted to only include the songs that I actually listened to (marked by a variable created testing wether I listened to at least 30 seconds of the song). Within my dataset there are also 3,205 unique songs that I listened to. aggregating the data set like this could produce metrics that can then be compared to the global data set. The global data set contains 50 observations, each representing a specific song. "
   ]
  },
  {
   "cell_type": "markdown",
   "metadata": {},
   "source": [
    "### Unique Categories"
   ]
  },
  {
   "cell_type": "code",
   "execution_count": 13,
   "metadata": {},
   "outputs": [
    {
     "name": "stdout",
     "output_type": "stream",
     "text": [
      "Personal Categorical Variables: ['artistName', 'trackName', 'dayofweek', 'timeofday'] (4) \n",
      " artistName: 1133 \n",
      " examples: ['M. Ward' 'James Blunt' 'Frankie Cosmos' 'Cage The Elephant'\n",
      " 'Saint Motel' 'Daði Freyr' 'The Wombats'] \n",
      "\n",
      " trackName: 3205 \n",
      " examples: ['Rave On' 'Bonfire Heart' 'Jesse' 'How Are You True' 'Sweet Talk'\n",
      " 'Think About Things' \"I Don't Know Why I Like You but I Do\"] \n",
      "\n",
      " dayofweek: 7 \n",
      " examples: ['Wednesday' 'Thursday' 'Friday' 'Saturday' 'Sunday' 'Monday' 'Tuesday'] \n",
      "\n",
      " timeofday: 3 \n",
      " examples: ['Night' 'Morning' 'Afternoon'] \n",
      "\n",
      "Global Categorical Variables: ['artist_name', 'track_name', 'genres'] (3) \n",
      " artist_name: 41 \n",
      " examples: ['Miley Cyrus' 'SZA' 'Harry Styles' 'Jung Kook' 'Eslabon Armado'\n",
      " 'Taylor Swift' 'Metro Boomin'] \n",
      "\n",
      " track_name: 50 \n",
      " examples: ['Flowers' 'Kill Bill' 'As It Was' 'Seven (feat. Latto) (Explicit Ver.)'\n",
      " 'Ella Baila Sola' 'Cruel Summer' \"Creepin' (with The Weeknd & 21 Savage)\"] \n",
      "\n",
      " genres: 50 \n",
      " examples: ['pop' 'r&b' 'rap' 'k-pop' 'corrido' 'corridos tumbados' 'sad sierreno'] \n",
      "\n"
     ]
    }
   ],
   "source": [
    "# unique categories \n",
    "# https://stackoverflow.com/questions/29803093/check-which-columns-in-dataframe-are-categorical\n",
    "# link used to help select the data types more easily  \n",
    "cat = personal.select_dtypes(include=['category', 'object']).columns\n",
    "print(f'''Personal Categorical Variables: {[x for x in cat]} ({len(cat)}) ''')\n",
    "for each in cat:\n",
    "    print(f''' {each}: {len(personal[each].unique())} \\n examples: {personal[each].unique()[0:7]} \\n''')\n",
    "\n",
    "# unique categories (global)\n",
    "cat_globe = world.select_dtypes(include=['category', 'object']).columns\n",
    "print(f'''Global Categorical Variables: {[x for x in cat_globe]} ({len(cat_globe)}) ''')\n",
    "for each in cat_globe:\n",
    "    if each == 'genres':\n",
    "        unique_genres = world.genres.str.split(',').explode('genres').str.strip(\"' '[]'\").unique()\n",
    "        print(f''' {each}: {len(unique_genres)} \\n examples: {unique_genres[0:7]} \\n''')\n",
    "    else:\n",
    "        print(f''' {each}: {len(world[each].unique())} \\n examples: {world[each].unique()[0:7]} \\n''')\n"
   ]
  },
  {
   "cell_type": "markdown",
   "metadata": {},
   "source": [
    "There are four categorical variables in my personal data (2 that are factored and two that are string objects). In this data set there are 1,133 unique artists, 3,205 unique song titles, 7 days of the week, and 3 times of day. Day of the week and timeofday are both variables that I created for the data set. There are 3 categorical variables in the global data set. There are 41 artists, 50 track names, and 50 genres.  "
   ]
  },
  {
   "cell_type": "markdown",
   "metadata": {},
   "source": [
    "### Missing Data "
   ]
  },
  {
   "cell_type": "code",
   "execution_count": 14,
   "metadata": {},
   "outputs": [
    {
     "data": {
      "text/plain": [
       "artist_name           0\n",
       "track_name            0\n",
       "is_explicit           0\n",
       "album_release_date    0\n",
       "genres                0\n",
       "danceability          0\n",
       "valence               0\n",
       "energy                0\n",
       "loudness              0\n",
       "acousticness          0\n",
       "instrumentalness      0\n",
       "liveness              0\n",
       "speechiness           0\n",
       "key                   0\n",
       "tempo                 0\n",
       "mode                  0\n",
       "duration_ms           0\n",
       "time_signature        0\n",
       "popularity            0\n",
       "minutes               0\n",
       "dtype: int64"
      ]
     },
     "execution_count": 14,
     "metadata": {},
     "output_type": "execute_result"
    }
   ],
   "source": [
    "# missing data counts \n",
    "personal.isna().sum()\n",
    "world.isna().sum()"
   ]
  },
  {
   "cell_type": "markdown",
   "metadata": {},
   "source": [
    "There is no missing data."
   ]
  },
  {
   "cell_type": "markdown",
   "metadata": {},
   "source": [
    "### Distribution of Continuous Variables "
   ]
  },
  {
   "cell_type": "code",
   "execution_count": 15,
   "metadata": {},
   "outputs": [
    {
     "name": "stderr",
     "output_type": "stream",
     "text": [
      "/Users/sarahwimbish/miniconda3/envs/ds4003/lib/python3.8/site-packages/seaborn/axisgrid.py:118: UserWarning: The figure layout has changed to tight\n",
      "  self._figure.tight_layout(*args, **kwargs)\n",
      "/Users/sarahwimbish/miniconda3/envs/ds4003/lib/python3.8/site-packages/seaborn/axisgrid.py:118: UserWarning: The figure layout has changed to tight\n",
      "  self._figure.tight_layout(*args, **kwargs)\n",
      "/Users/sarahwimbish/miniconda3/envs/ds4003/lib/python3.8/site-packages/seaborn/axisgrid.py:118: UserWarning: The figure layout has changed to tight\n",
      "  self._figure.tight_layout(*args, **kwargs)\n",
      "/Users/sarahwimbish/miniconda3/envs/ds4003/lib/python3.8/site-packages/seaborn/axisgrid.py:118: UserWarning: The figure layout has changed to tight\n",
      "  self._figure.tight_layout(*args, **kwargs)\n"
     ]
    },
    {
     "data": {
      "image/png": "[encoded data removed]",
      "text/plain": [
       "<Figure size 500x500 with 1 Axes>"
      ]
     },
     "metadata": {},
     "output_type": "display_data"
    },
    {
     "data": {
      "image/png": "[encoded data removed]",
      "text/plain": [
       "<Figure size 500x500 with 1 Axes>"
      ]
     },
     "metadata": {},
     "output_type": "display_data"
    },
    {
     "data": {
      "image/png": "[encoded data removed]",
      "text/plain": [
       "<Figure size 500x500 with 1 Axes>"
      ]
     },
     "metadata": {},
     "output_type": "display_data"
    },
    {
     "data": {
      "image/png": "[encoded data removed]",
      "text/plain": [
       "<Figure size 500x500 with 1 Axes>"
      ]
     },
     "metadata": {},
     "output_type": "display_data"
    }
   ],
   "source": [
    "# continuous distributions \n",
    "cat = personal.select_dtypes(include=['number']).columns[1:]\n",
    "\n",
    "# distribution graphs \n",
    "for each in cat:\n",
    "    sns.displot(personal[each])\n"
   ]
  },
  {
   "cell_type": "markdown",
   "metadata": {},
   "source": [
    "There are four continuous variables in the personal data set, msplayed, seconds, minutes, and hour. The first three represent he duration of time that each song was played for and the hour variables represents the hour during the day that I listened to it. The first three variables all will follow the same distribution with the most common values being close to 0 (aka I skipped the song). If looks at the hour variable, it looks pretty normally distributed if you look at it from the perspective of the hours i would be up during the day (starting around 7am instead of midnight)."
   ]
  },
  {
   "cell_type": "code",
   "execution_count": 16,
   "metadata": {},
   "outputs": [
    {
     "name": "stderr",
     "output_type": "stream",
     "text": [
      "/Users/sarahwimbish/miniconda3/envs/ds4003/lib/python3.8/site-packages/seaborn/axisgrid.py:118: UserWarning: The figure layout has changed to tight\n",
      "  self._figure.tight_layout(*args, **kwargs)\n"
     ]
    },
    {
     "data": {
      "text/plain": [
       "<seaborn.axisgrid.FacetGrid at 0x7f8232bd5b20>"
      ]
     },
     "execution_count": 16,
     "metadata": {},
     "output_type": "execute_result"
    },
    {
     "data": {
      "image/png": "[encoded data removed]",
      "text/plain": [
       "<Figure size 500x500 with 1 Axes>"
      ]
     },
     "metadata": {},
     "output_type": "display_data"
    }
   ],
   "source": [
    "sns.displot(personal[personal.played==True].minutes)"
   ]
  },
  {
   "cell_type": "markdown",
   "metadata": {},
   "source": [
    "When looking at the duration of play of songs I listened to, it appears to be normally distributed, with the mode being around 3.5 minutes. There are some extreme outliers (10-15 minutes) that I will need to look into. The outliers just over 8 minutes are very likely all American Pie by Don McLean. "
   ]
  },
  {
   "cell_type": "code",
   "execution_count": 17,
   "metadata": {},
   "outputs": [
    {
     "data": {
      "text/html": [
       "<div>\n",
       "<style scoped>\n",
       "    .dataframe tbody tr th:only-of-type {\n",
       "        vertical-align: middle;\n",
       "    }\n",
       "\n",
       "    .dataframe tbody tr th {\n",
       "        vertical-align: top;\n",
       "    }\n",
       "\n",
       "    .dataframe thead th {\n",
       "        text-align: right;\n",
       "    }\n",
       "</style>\n",
       "<table border=\"1\" class=\"dataframe\">\n",
       "  <thead>\n",
       "    <tr style=\"text-align: right;\">\n",
       "      <th></th>\n",
       "      <th>index</th>\n",
       "      <th>endTime</th>\n",
       "      <th>artistName</th>\n",
       "      <th>trackName</th>\n",
       "      <th>msPlayed</th>\n",
       "      <th>seconds</th>\n",
       "      <th>minutes</th>\n",
       "      <th>played</th>\n",
       "      <th>date</th>\n",
       "      <th>dayofweek</th>\n",
       "      <th>hour</th>\n",
       "      <th>timeofday</th>\n",
       "    </tr>\n",
       "  </thead>\n",
       "  <tbody>\n",
       "    <tr>\n",
       "      <th>4410</th>\n",
       "      <td>4410</td>\n",
       "      <td>2023-04-09 18:38:00</td>\n",
       "      <td>Parquet Courts</td>\n",
       "      <td>Uncast Shadow of a Southern Myth</td>\n",
       "      <td>862605</td>\n",
       "      <td>862.605</td>\n",
       "      <td>14.376750</td>\n",
       "      <td>True</td>\n",
       "      <td>2023-04-09</td>\n",
       "      <td>Sunday</td>\n",
       "      <td>18</td>\n",
       "      <td>Night</td>\n",
       "    </tr>\n",
       "    <tr>\n",
       "      <th>7347</th>\n",
       "      <td>7347</td>\n",
       "      <td>2023-05-13 13:38:00</td>\n",
       "      <td>Don McLean</td>\n",
       "      <td>American Pie</td>\n",
       "      <td>778271</td>\n",
       "      <td>778.271</td>\n",
       "      <td>12.971183</td>\n",
       "      <td>True</td>\n",
       "      <td>2023-05-13</td>\n",
       "      <td>Saturday</td>\n",
       "      <td>13</td>\n",
       "      <td>Afternoon</td>\n",
       "    </tr>\n",
       "    <tr>\n",
       "      <th>11809</th>\n",
       "      <td>1809</td>\n",
       "      <td>2023-06-10 17:43:00</td>\n",
       "      <td>Don McLean</td>\n",
       "      <td>American Pie</td>\n",
       "      <td>686820</td>\n",
       "      <td>686.820</td>\n",
       "      <td>11.447000</td>\n",
       "      <td>True</td>\n",
       "      <td>2023-06-10</td>\n",
       "      <td>Saturday</td>\n",
       "      <td>17</td>\n",
       "      <td>Afternoon</td>\n",
       "    </tr>\n",
       "    <tr>\n",
       "      <th>12630</th>\n",
       "      <td>2630</td>\n",
       "      <td>2023-06-17 14:23:00</td>\n",
       "      <td>Don McLean</td>\n",
       "      <td>American Pie</td>\n",
       "      <td>927854</td>\n",
       "      <td>927.854</td>\n",
       "      <td>15.464233</td>\n",
       "      <td>True</td>\n",
       "      <td>2023-06-17</td>\n",
       "      <td>Saturday</td>\n",
       "      <td>14</td>\n",
       "      <td>Afternoon</td>\n",
       "    </tr>\n",
       "  </tbody>\n",
       "</table>\n",
       "</div>"
      ],
      "text/plain": [
       "       index             endTime      artistName  \\\n",
       "4410    4410 2023-04-09 18:38:00  Parquet Courts   \n",
       "7347    7347 2023-05-13 13:38:00      Don McLean   \n",
       "11809   1809 2023-06-10 17:43:00      Don McLean   \n",
       "12630   2630 2023-06-17 14:23:00      Don McLean   \n",
       "\n",
       "                              trackName  msPlayed  seconds    minutes  played  \\\n",
       "4410   Uncast Shadow of a Southern Myth    862605  862.605  14.376750    True   \n",
       "7347                       American Pie    778271  778.271  12.971183    True   \n",
       "11809                      American Pie    686820  686.820  11.447000    True   \n",
       "12630                      American Pie    927854  927.854  15.464233    True   \n",
       "\n",
       "            date dayofweek  hour  timeofday  \n",
       "4410  2023-04-09    Sunday    18      Night  \n",
       "7347  2023-05-13  Saturday    13  Afternoon  \n",
       "11809 2023-06-10  Saturday    17  Afternoon  \n",
       "12630 2023-06-17  Saturday    14  Afternoon  "
      ]
     },
     "execution_count": 17,
     "metadata": {},
     "output_type": "execute_result"
    }
   ],
   "source": [
    "personal[personal.minutes > 11]"
   ]
  },
  {
   "cell_type": "markdown",
   "metadata": {},
   "source": [
    "Being that none of the songs that are played for more than 11 minutes are not actually 11 minutes long, I would assume that these entries are songs that I started listening to, almost finished, and then restarted leading to a single song lasting for double the actual length. \n",
    "\n",
    "The distribution of the personal data set and the global data set are not extremely import to this project as no statistical tests will be run on them, however it is interesting to explore in this early phase. \n",
    "\n",
    "### Distribution of Listening \n"
   ]
  },
  {
   "cell_type": "code",
   "execution_count": 20,
   "metadata": {},
   "outputs": [
    {
     "data": {
      "text/plain": [
       "trackName\n",
       "DUCKWORTH.                                    508.165467\n",
       "Barbie Dreams                                 471.803033\n",
       "N95                                           351.261300\n",
       "American Pie                                  345.672283\n",
       "Father Time (feat. Sampha)                    344.940417\n",
       "The Night Josh Tillman Came To Our Apt.       320.750917\n",
       "Out Of The Woods                              315.702800\n",
       "vampire                                       311.142217\n",
       "Revival                                       308.274950\n",
       "United In Grief                               308.012050\n",
       "Me and Your Mama                              304.051417\n",
       "New Romantics                                 293.320417\n",
       "Strange Weather                               292.767467\n",
       "It's Still Rock and Roll to Me                285.667117\n",
       "Bigger Boys and Stolen Sweethearts            282.350633\n",
       "Movin' Out (Anthony's Song)                   278.576800\n",
       "From The Ritz To The Rubble                   275.378150\n",
       "bad idea right?                               269.626400\n",
       "Doubt                                         262.687617\n",
       "Let The Light In (feat. Father John Misty)    261.378200\n",
       "Name: minutes, dtype: float64"
      ]
     },
     "execution_count": 20,
     "metadata": {},
     "output_type": "execute_result"
    }
   ],
   "source": [
    "# groupby the track name to see how many minutes I am listening to each song \n",
    "personal_gb = personal.groupby('trackName')['minutes'].sum().sort_values(ascending=False)\n",
    "# show first 20 rows\n",
    "personal_gb.head(20)"
   ]
  },
  {
   "cell_type": "markdown",
   "metadata": {},
   "source": [
    "It looks like even within my top ten songs there is a steep drop off of in how many minutes I am listening to my favorite songs. "
   ]
  },
  {
   "cell_type": "code",
   "execution_count": 22,
   "metadata": {},
   "outputs": [
    {
     "data": {
      "text/plain": [
       "trackName\n",
       "DUCKWORTH.                                 148\n",
       "N95                                        134\n",
       "Baby I'm Yours                             133\n",
       "Barbie Dreams                              131\n",
       "vampire                                    124\n",
       "Bigger Boys and Stolen Sweethearts         123\n",
       "It's Still Rock and Roll to Me             122\n",
       "The Night Josh Tillman Came To Our Apt.    120\n",
       "Strange Weather                            119\n",
       "bad idea right?                            117\n",
       "Father Time (feat. Sampha)                 117\n",
       "Mother                                     116\n",
       "Out Of The Woods                           114\n",
       "The Dream Synopsis                         109\n",
       "Crying Lightning                           108\n",
       "Doubt                                      107\n",
       "From The Ritz To The Rubble                106\n",
       "Movin' Out (Anthony's Song)                102\n",
       "Chateau Lobby #4 (in C for Two Virgins)    100\n",
       "Last Nite                                   97\n",
       "Name: minutes, dtype: int64"
      ]
     },
     "execution_count": 22,
     "metadata": {},
     "output_type": "execute_result"
    }
   ],
   "source": [
    "# groupby the track name to see how many times I am listening to each song \n",
    "personal_gb = personal.groupby('trackName')['minutes'].count().sort_values(ascending=False)\n",
    "# show first 20 rows\n",
    "personal_gb.head(20)"
   ]
  },
  {
   "cell_type": "markdown",
   "metadata": {},
   "source": [
    "The same this is true when looking at the number of times I listen to each song."
   ]
  },
  {
   "cell_type": "code",
   "execution_count": 27,
   "metadata": {},
   "outputs": [
    {
     "data": {
      "text/plain": [
       "artistName\n",
       "Arctic Monkeys             2246\n",
       "Olivia Rodrigo              753\n",
       "Taylor Swift                657\n",
       "Kendrick Lamar              641\n",
       "Charli XCX                  438\n",
       "Father John Misty           338\n",
       "Matt Maltese                328\n",
       "The Walters                 312\n",
       "Billy Joel                  308\n",
       "Cage The Elephant           305\n",
       "The Front Bottoms           297\n",
       "The Last Shadow Puppets     296\n",
       "The Strokes                 295\n",
       "Peach Pit                   281\n",
       "Florence + The Machine      280\n",
       "The Wombats                 278\n",
       "Nicki Minaj                 275\n",
       "Slaughter Beach, Dog        259\n",
       "Lorde                       251\n",
       "Zach Bryan                  236\n",
       "Name: minutes, dtype: int64"
      ]
     },
     "execution_count": 27,
     "metadata": {},
     "output_type": "execute_result"
    }
   ],
   "source": [
    "# groupby the artist name to see how many times I am listening to each artist\n",
    "personal_gb = personal.groupby(['artistName'])['minutes'].count().sort_values(ascending=False)\n",
    "# show first 20 rows\n",
    "personal_gb.head(20)"
   ]
  },
  {
   "cell_type": "markdown",
   "metadata": {},
   "source": [
    "There is a huge drop off in how frequently I listen to a lot of artists too. "
   ]
  },
  {
   "cell_type": "code",
   "execution_count": 29,
   "metadata": {},
   "outputs": [
    {
     "data": {
      "text/plain": [
       "artistName\n",
       "Taylor Swift              82\n",
       "Twenty One Pilots         70\n",
       "Arctic Monkeys            62\n",
       "Florence + The Machine    57\n",
       "Olivia Rodrigo            34\n",
       "Britney Spears            31\n",
       "Bo Burnham                30\n",
       "Nicki Minaj               27\n",
       "Charli XCX                25\n",
       "The Wombats               24\n",
       "The Front Bottoms         24\n",
       "Kendrick Lamar            24\n",
       "Lorde                     24\n",
       "Queen                     23\n",
       "Cage The Elephant         22\n",
       "The Walters               22\n",
       "Matt Maltese              22\n",
       "Kanye West                20\n",
       "Lana Del Rey              20\n",
       "Ariana Grande             19\n",
       "Name: trackName, dtype: int64"
      ]
     },
     "execution_count": 29,
     "metadata": {},
     "output_type": "execute_result"
    }
   ],
   "source": [
    "# groupby the artist name and find the number of unique songs I listen to from each one \n",
    "personal_gb = personal.groupby(['artistName'])['trackName'].nunique().sort_values(ascending=False)\n",
    "# show first 20 rows\n",
    "personal_gb.head(20)"
   ]
  },
  {
   "cell_type": "markdown",
   "metadata": {},
   "source": [
    "There is a big drop off in the number of songs I listen to by each artist. This is probably magnified by the fact that the top five artists are ones that I will shuffle their complete discography. "
   ]
  },
  {
   "cell_type": "code",
   "execution_count": 34,
   "metadata": {},
   "outputs": [
    {
     "data": {
      "text/plain": [
       "1002"
      ]
     },
     "execution_count": 34,
     "metadata": {},
     "output_type": "execute_result"
    }
   ],
   "source": [
    "personal_gb = personal.groupby(['trackName'])['minutes'].count()\n",
    "personal_gb[personal_gb==1].count()"
   ]
  },
  {
   "cell_type": "markdown",
   "metadata": {},
   "source": [
    "There are 1002 songs out of the over 30,000 that I listened to in the past year that I only listened to 1 time. "
   ]
  },
  {
   "cell_type": "markdown",
   "metadata": {},
   "source": [
    "# Data Dictionary \n",
    "\n",
    "<center>\n",
    "\n",
    "## Personal \n",
    "Variable Name | Description | Possible Value \n",
    ":----------: | :-----------: | :-----------:\n",
    "endTime | The date/timestamp the song was completed at | 2023-06-17 14:23:00\n",
    "artistName | The name of the artist how performs the song | Don McLean\n",
    "trackName | The title of the song | American Pie\n",
    "msPlayed | How many milliseconds I listened to the song | 927854\n",
    "seconds | How many seconds I listened to the song | 927.854\n",
    "minutes | How many minutes I listened to the song | 15.464233\n",
    "played | A boolean determining whether or not I listened to the song (based on a 30 seconds benchmark) | True or False \n",
    "date | Just the date of listening | 2023-06-17 \n",
    "dayofweek | What day of the week the observation is from | Saturday\n",
    "hour | What hour during the day it was listened to | 14\n",
    "timeofday | What time of the day it was listened to | Afternoon\n",
    "\n",
    "\n",
    "## Global \n",
    "Variable Name | Description | Possible Value \n",
    ":----------: | :-----------: | :-----------:\n",
    "artist_name | The name of the artist how performs the song | Miley Cyrus\n",
    "track_name | The title of the song | Flowers\n",
    "is_explicit | Whether or not the song is explicit | False\n",
    "genres | A list of genres the song is considered | ['pop']\n",
    "daceability | The danceablity rating of the song | 0.706\n",
    "valence | The valence of the song | 0.632\n",
    "energy | The energy score of the song | 0.691\n",
    "loudness | How loud the song is | -4.775\n",
    "acousticness | How many acousticness is in the song | 0.0584\n",
    "instrumentalness | The amount of instumental sound in the song | 0.000070\n",
    "liveness | Amount of live performance in the song | 0.0232\n",
    "speechiness | The amount of spoken work in the song | 0.0633\n",
    "key | The key of the song | 0\n",
    "tempo | The tempo of the song (bpm) | 118.048\n",
    "mode | The mode of the song | 1\n",
    "duration_ms | How long to song is in milliseconds | 200600\n",
    "popularity | The Spotify popularity ranking of the song | 94\n",
    "minutes | How many minutes the song is | 3.343333\n",
    "</center>"
   ]
  },
  {
   "cell_type": "markdown",
   "metadata": {},
   "source": [
    "# "
   ]
  },
  {
   "cell_type": "markdown",
   "metadata": {},
   "source": [
    "# UI Components \n",
    "1. Because I have two data sets that I want to use in this project, I want to create at least one UI component that allows the user to toggle between looking at all of my data, all of the global data, and the intersection between the two. This might be in the form of a dropdown that allows the user to select to look at just my data, just the global data, both, or the intersection of the two or a set of radio buttons that allow them to select my data the global data or both.\n",
    "2. I listen to a lot of songs, some of which I don't listen to frequently as shown above. To help users navigate this, assigning each song a rank and allowing the user to determine the rank threshold a song has to meet in order to be shown in visualizations could be helpful. This would likely be in the form of a range slider. \n",
    "3. When looking at the global data set, there are a lot of metrics that are shown. Being able to control a dropdown menu that changes the x or y axis would allow a user to see a lot of interactions between all of these variables without cluttering the screen. \n",
    "\n",
    "# Data Visualization Ideas\n",
    "1. A bar chart that shows how much music I am listening to at each hour of the day. Perhaps this chart could be skewed into a circle (like polar coordinates would in ggplot) to mimic where the hour would be displayed on a clock. The user might be able to select different durations of time for this plot (maybe using a range slider).\n",
    "2. A scatter plot that displays different metrics from the global data set ont eh x and y axis. Perhaps making this so if an option is selected on one axis it cannot be selected on the other. Potentially also with a toggle that makes it so it only show the points that represent songs that are in my streaming history. \n",
    "3. A bar chart that shows how many times I listen to my top songs. The number of top songs could maybe be changed to a certain extent (i.e. top 10, 20, or 50). This could also be toggled between the number of times that I listened to a song and the number of minutes I listened to a song. \n",
    "4. I am not sure what form this plot would take, but some sort of whole number plot or area visualization of the total number of songs that are in my data set that the user can toggle to remove the songs that I didn't play. This is because I tend to skip a lot of songs so I am sure the 30000 songs in the data set would drop significantly. \n",
    "5. A scatter plot that show the listening time of each artist vs the percent of their songs that I skip (played==false). Could maybe be able to change the the listening time of the artist to different metrics(the number of their songs I listen to, the number of times I listened to their songs)."
   ]
  }
 ],
 "metadata": {
  "kernelspec": {
   "display_name": "ds4003",
   "language": "python",
   "name": "python3"
  },
  "language_info": {
   "codemirror_mode": {
    "name": "ipython",
    "version": 3
   },
   "file_extension": ".py",
   "mimetype": "text/x-python",
   "name": "python",
   "nbconvert_exporter": "python",
   "pygments_lexer": "ipython3",
   "version": "3.8.18"
  }
 },
 "nbformat": 4,
 "nbformat_minor": 2
}
